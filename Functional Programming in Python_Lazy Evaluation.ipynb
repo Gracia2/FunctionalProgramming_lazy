{
 "cells": [
  {
   "cell_type": "markdown",
   "metadata": {},
   "source": [
    "## Functional Programming in Python_\n",
    "\n",
    "https://pepa.holla.cz/wp-content/uploads/2016/10/functional-programming-python.pdf\n",
    "\n",
    "https://docs.python.org/3.4/howto/functional.html\n",
    "\n",
    "What Is Functional Programming?\n",
    ": a programming paradigm based on the evaluation of expression, which avoids changing-state and mutable data. \n",
    "\n",
    "Functional programming decomposes a problem into a set of functions. Ideally, functions only take inputs and produce outputs, and don’t have any internal state that affects the output produced for a given input.\n",
    "\n",
    "Python is most definitely not a “pure functional programming language. However, Python is a multiparadigm language that makes functional programming easy to do when desired, and easy to mix with other programming styles.\n",
    "\n",
    "• Functions are first class (objects) :  That is, everything you can do with “data” can be done with functions themselves (such as passing a function to another function).\n",
    "\n",
    "• Recursion is used as a primary control structure. \n",
    "\n",
    "• There is a focus on list processing :  Lists are often used with recursion on sublists as a substitute for loops.\n",
    "\n",
    "• “Pure” functional languages eschew side effects :\n",
    "Functional programming either discourages or outright disalows statements, and instead works with the evaluation of expressions (in other words, functions plus arguments)\n",
    "\n",
    "• Functional programming worries about what is to be computed rather than how it is to be computed.\n",
    "\n",
    "• Much functional programming utilizes “higher order” functions : in other words, functions that operate on functions that operate on functions\n",
    "\n",
    "https://marcobonzanini.com/2015/06/08/functional-programming-in-python/\n",
    "\n",
    "• Avoid state representation\n",
    "\n",
    "• Data are immutable\n",
    "\n",
    "One of the key motivations beyond Functional Programming, and beyond some of its aspects like no changing-state and no mutable data, is \n",
    "the need to eliminate side effects, i.e. changes in the state that don’t really depend on the function input, making the program more difficult to understand and predict.\n",
    "\n",
    "\n",
    "•There is more Functional Programming support in the Python standard library.\n",
    "\n",
    "1. map() reduce() and filter()\n",
    "\n",
    " The functions reduce() and filter() naturally belong together with the map() function. While map will apply a function over a sequence, producing a sequence as output, reduce will apply a function of two arguments cumulatively to the items in a sequence, in order to reduce the sequence to a single value. The use of filter() consists in applying a function to each item in a sequence, building a new sequence for those items that return true. \n",
    "\n",
    "Notice: the term sequence has to be intended as iterable, and for both map() and filter() the return type is a generator (hence the use of list() to visualise the actual list).\n",
    "\n",
    "2. lambda functions\n",
    " Python supports the definition of lambda functions, i.e. small anonymous functions not necessarily bound to a name, at runtime. The use of anonymous functions is fairly common in Functional Programming, and it’s easy to see their use related to map/reduce/filter.\n",
    " \n",
    "3. itertools module\n",
    " \n",
    "4. Generators for lazy-evaluation\n",
    " \n",
    " Generator functions and generator expressions in Python provide objects that behave like an iterator (i.e. they can be looped over), without having the full content of the iterable loaded in memory. This concept is linked to lazy-evaluation, i.e. a call-by-need strategy where an item in a sequence is evaluated only when it’s needed, otherwise it’s not loaded in memory.\n",
    " \n",
    "• Functional programming can be considered the opposite of object-oriented programming. \n",
    " \n",
    " Objects are little capsules containing some internal state along with a collection of method calls that let you modify this state, and programs consist of making the right set of state changes. \n",
    " \n",
    " Functional programming wants to avoid state changes as much as possible and works with data flowing between functions. \n",
    " \n",
    " In Python you might combine the two approaches by writing functions that take and return instances representing objects in your application (e-mail messages, transactions, etc.).\n",
    " \n",
    "• Functional design may seem like an odd constraint to work under. Why should you avoid objects and side effects? There are theoretical and practical advantages to the functional style:\n",
    "\n",
    "Formal provability.\n",
    "\n",
    "Modularity.\n",
    "\n",
    "Composability.\n",
    "\n",
    "Ease of debugging and testing.\n"
   ]
  },
  {
   "cell_type": "markdown",
   "metadata": {},
   "source": [
    "## Lazy Evaluation\n",
    "\n",
    " This capability is only loosely connected to functional programming per se, since Python does not quite offer lazy data structures in the sense of a language like Haskell.\n",
    "\n",
    "However, use of the iterator protocol—and Python’s many built-in or standard\n",
    "library iteratables—accomplish much the same effect as an actual lazy data structure.\n"
   ]
  },
  {
   "cell_type": "code",
   "execution_count": 30,
   "metadata": {},
   "outputs": [],
   "source": [
    "# p.18\n",
    "def get_primes():\n",
    "# \"Simple lazy Sieve of Eratosthenes\"\n",
    "    candidate = 2\n",
    "    found = []\n",
    "    while True:\n",
    "        if all(candidate % prime != 0 for prime in found):\n",
    "            yield candidate\n",
    "            found.append(candidate)\n",
    "        candidate += 1\n",
    "        \n",
    "primes = get_primes()"
   ]
  },
  {
   "cell_type": "code",
   "execution_count": 32,
   "metadata": {},
   "outputs": [
    {
     "data": {
      "text/plain": [
       "3"
      ]
     },
     "execution_count": 32,
     "metadata": {},
     "output_type": "execute_result"
    }
   ],
   "source": [
    "next(primes)"
   ]
  },
  {
   "cell_type": "code",
   "execution_count": 33,
   "metadata": {},
   "outputs": [
    {
     "data": {
      "text/plain": [
       "5"
      ]
     },
     "execution_count": 33,
     "metadata": {},
     "output_type": "execute_result"
    }
   ],
   "source": [
    "next(primes)"
   ]
  },
  {
   "cell_type": "code",
   "execution_count": 34,
   "metadata": {},
   "outputs": [
    {
     "data": {
      "text/plain": [
       "7"
      ]
     },
     "execution_count": 34,
     "metadata": {},
     "output_type": "execute_result"
    }
   ],
   "source": [
    "next(primes)"
   ]
  },
  {
   "cell_type": "code",
   "execution_count": 36,
   "metadata": {},
   "outputs": [
    {
     "name": "stdout",
     "output_type": "stream",
     "text": [
      "47 53 59 61 67 71 73 79 83 89 "
     ]
    }
   ],
   "source": [
    "for _, prime in zip(range(10), primes):\n",
    "    print(prime, end=\" \")"
   ]
  },
  {
   "cell_type": "code",
   "execution_count": 39,
   "metadata": {},
   "outputs": [
    {
     "name": "stdout",
     "output_type": "stream",
     "text": [
      "2 3 5 7 11 13 17 19 23 29 "
     ]
    }
   ],
   "source": [
    "# p.26   Define a list of ALL the prime numbers(like Haskell)\n",
    "\"\"\"one can replicate this in Python too, it just isn’t in the inherent syntax of the language and takes more manual construction.\"\"\" \n",
    "\n",
    "from collections.abc import Sequence\n",
    "class ExpandingSequence(Sequence):\n",
    "     def __init__(self, it):\n",
    "         self.it = it\n",
    "         self._cache = []\n",
    "     def __getitem__(self, index):\n",
    "         while len(self._cache) <= index:\n",
    "             self._cache.append(next(self.it))\n",
    "         return self._cache[index]\n",
    "     def __len__(self):\n",
    "         return len(self._cache)\n",
    "\n",
    "primes = ExpandingSequence(get_primes())  \n",
    "for _, p in zip(range(10), primes):\n",
    "    print(p, end=\" \")\n"
   ]
  },
  {
   "cell_type": "code",
   "execution_count": 40,
   "metadata": {},
   "outputs": [
    {
     "data": {
      "text/plain": [
       "31"
      ]
     },
     "execution_count": 40,
     "metadata": {},
     "output_type": "execute_result"
    }
   ],
   "source": [
    "primes[10]"
   ]
  },
  {
   "cell_type": "code",
   "execution_count": 41,
   "metadata": {},
   "outputs": [
    {
     "data": {
      "text/plain": [
       "13"
      ]
     },
     "execution_count": 41,
     "metadata": {},
     "output_type": "execute_result"
    }
   ],
   "source": [
    "primes[5]"
   ]
  },
  {
   "cell_type": "code",
   "execution_count": 42,
   "metadata": {},
   "outputs": [
    {
     "data": {
      "text/plain": [
       "11"
      ]
     },
     "execution_count": 42,
     "metadata": {},
     "output_type": "execute_result"
    }
   ],
   "source": [
    "len(primes)"
   ]
  },
  {
   "cell_type": "code",
   "execution_count": 43,
   "metadata": {},
   "outputs": [
    {
     "data": {
      "text/plain": [
       "547"
      ]
     },
     "execution_count": 43,
     "metadata": {},
     "output_type": "execute_result"
    }
   ],
   "source": [
    "primes[100]"
   ]
  },
  {
   "cell_type": "code",
   "execution_count": 44,
   "metadata": {},
   "outputs": [
    {
     "data": {
      "text/plain": [
       "101"
      ]
     },
     "execution_count": 44,
     "metadata": {},
     "output_type": "execute_result"
    }
   ],
   "source": [
    "len(primes)"
   ]
  },
  {
   "cell_type": "markdown",
   "metadata": {},
   "source": [
    "### Iterators\n",
    "\n",
    "https://docs.python.org/3.4/howto/functional.html\n",
    "\n",
    "a Python language feature that’s an important foundation for writing functional-style programs: iterators.\n",
    "\n",
    "An iterator is an object representing a stream of data; this object returns the data one element at a time. A Python iterator must support a method called __next__() that takes no arguments and always returns the next element of the stream. If there are no more elements in the stream, __next__() must raise the StopIteration exception. Iterators don’t have to be finite, though.\n",
    "\n",
    "\n",
    "\n"
   ]
  },
  {
   "cell_type": "markdown",
   "metadata": {},
   "source": [
    "### Generator expressions and list comprehensions\n",
    "\n",
    "https://docs.python.org/3.4/howto/functional.html\n",
    "\n",
    "List comprehensions and generator expressions (short form: “listcomps” and “genexps”) are a concise notation for such operations, borrowed from the functional programming language Haskell.\n",
    "\n",
    "List comprehensions aren’t useful if you’re working with iterators that return an infinite stream or a very large amount of data. Generator expressions are preferable in these situations.\n",
    "\n",
    "Generator expressions are surrounded by parentheses (“()”) and list comprehensions are surrounded by square brackets (“[]”).\n",
    "\n",
    "Generator expressions always have to be written inside parentheses, but the parentheses signalling a function call also count. If you want to create an iterator that will be immediately passed to a function you can write:\n",
    "\n",
    "obj_total = sum(obj.count for obj in list_all_objects())\n",
    "\n",
    "To avoid introducing an ambiguity into Python’s grammar, if expression is creating a tuple, it must be surrounded with parentheses. The first list comprehension below is a syntax error, while the second one is correct:\n",
    "\n",
    "#Syntax error\n",
    "[x, y for x in seq1 for y in seq2]\n",
    "#Correct\n",
    "[(x, y) for x in seq1 for y in seq2]"
   ]
  },
  {
   "cell_type": "code",
   "execution_count": 20,
   "metadata": {},
   "outputs": [],
   "source": [
    "line_list = ['  line 1\\n', 'line 2  \\n', 'line 3  \\n', 'line 4  \\n', 'line 5  \\n']\n",
    "\n",
    "# Generator expression -- returns iterator\n",
    "stripped_iter = (line.strip() for line in line_list)\n",
    "\n",
    "# List comprehension -- returns list\n",
    "stripped_list = [line.strip() for line in line_list]"
   ]
  },
  {
   "cell_type": "code",
   "execution_count": 10,
   "metadata": {},
   "outputs": [
    {
     "data": {
      "text/plain": [
       "<generator object <genexpr> at 0x0000020FB94AF390>"
      ]
     },
     "execution_count": 10,
     "metadata": {},
     "output_type": "execute_result"
    }
   ],
   "source": [
    "stripped_iter"
   ]
  },
  {
   "cell_type": "code",
   "execution_count": 16,
   "metadata": {},
   "outputs": [
    {
     "ename": "StopIteration",
     "evalue": "",
     "output_type": "error",
     "traceback": [
      "\u001b[1;31m---------------------------------------------------------------------------\u001b[0m",
      "\u001b[1;31mStopIteration\u001b[0m                             Traceback (most recent call last)",
      "\u001b[1;32m<ipython-input-16-0aa9e486d076>\u001b[0m in \u001b[0;36m<module>\u001b[1;34m\u001b[0m\n\u001b[1;32m----> 1\u001b[1;33m \u001b[0mnext\u001b[0m\u001b[1;33m(\u001b[0m\u001b[0mstripped_iter\u001b[0m\u001b[1;33m)\u001b[0m\u001b[1;33m\u001b[0m\u001b[1;33m\u001b[0m\u001b[0m\n\u001b[0m",
      "\u001b[1;31mStopIteration\u001b[0m: "
     ]
    }
   ],
   "source": [
    "next(stripped_iter)"
   ]
  },
  {
   "cell_type": "code",
   "execution_count": 22,
   "metadata": {},
   "outputs": [
    {
     "data": {
      "text/plain": [
       "['line 1', 'line 2', 'line 3', 'line 4', 'line 5']"
      ]
     },
     "execution_count": 22,
     "metadata": {},
     "output_type": "execute_result"
    }
   ],
   "source": [
    "stripped_list"
   ]
  },
  {
   "cell_type": "code",
   "execution_count": 25,
   "metadata": {},
   "outputs": [],
   "source": [
    "stripped_list = [line.strip() for line in line_list\n",
    "                 if line != \"\"]"
   ]
  },
  {
   "cell_type": "code",
   "execution_count": 26,
   "metadata": {},
   "outputs": [
    {
     "data": {
      "text/plain": [
       "['line 1', 'line 2', 'line 3', 'line 4', 'line 5']"
      ]
     },
     "execution_count": 26,
     "metadata": {},
     "output_type": "execute_result"
    }
   ],
   "source": [
    "stripped_list"
   ]
  },
  {
   "cell_type": "markdown",
   "metadata": {},
   "source": [
    "### Generators\n",
    "\n",
    "https://docs.python.org/3.4/howto/functional.html\n",
    "\n",
    "p.15\n",
    "A special sort of function in Python is one that contains a yield\n",
    "statement, which turns it into a generator. What is returned from\n",
    "calling such a function is not a regular value, but rather an iterator\n",
    "that produces a sequence of values as you call the next() function\n",
    "on it or loop over it. :  “Lazy Evaluation.”\n",
    "\n"
   ]
  },
  {
   "cell_type": "markdown",
   "metadata": {},
   "source": [
    "### iterator protocol\n",
    "\n",
    "\n",
    "https://www.macs.hw.ac.uk/~hwloidl/Courses/F21SC/slidesPython17_FP.pdf\n",
    "\n",
    "\n",
    "A number of functions eliminate the need to many common loop patterns.\n",
    "\n",
    "Functional programming tools reduce many loops to simple expressions\n",
    "\n",
    ": The conventional approach to iterating a series of values is to use 'for'.\n",
    "\n",
    "However, part of the secret to good iteration is... don't iterate explicitly.\n",
    "\n",
    "A comprehension creates a list, set or dictionary without explicit looping.\n",
    "\n",
    "Iterators and generators support a lazy approach to handling series of values.\n",
    "\n",
    "\n",
    "p.27\n",
    "\n",
    "The easiest way to create an iterator—that is to say, a lazy sequence in Python is to define a generator function. Simply use the yield statement within the body of a function to define the places (usually in a loop) where values are produced.\n",
    "\n",
    "Generator functions are syntax sugar for defining a function that returns an iterator.\n",
    "\n",
    "Many objects have a method named .__iter__(), which will return\n",
    "an iterator when it is called, generally via the iter() built-in function, or even more often simply by looping over the object,\n",
    "\n",
    "What an iterator is is the object returned by a call to iter(some\n",
    "thing), which itself has a method named .__iter__() that simply\n",
    "returns the object itself, and another method named .__next__().\n",
    "\n",
    "The reason the iterable itself still has an .__iter__() method is to\n",
    "make iter() \"idempotent\". That is, this identity should always hold\n",
    "\n",
    "iter_seq = iter(sequence)\n",
    "\n",
    "iter(iter_seq) == iter_seq\n",
    "\n",
    "p.28 In a functional programming style—or even just generally for readability—writing custom iterators as generator functions is most natural. However, we can also create custom classes that obey the protocol; but most such behaviors necessarily rely on statefulness and side effects to be meaningful. ( Since statefulness is for object-oriented programmers, in a functional programming style we will generally avoid classes like this.)"
   ]
  },
  {
   "cell_type": "code",
   "execution_count": 45,
   "metadata": {},
   "outputs": [
    {
     "data": {
      "text/plain": [
       "True"
      ]
     },
     "execution_count": 45,
     "metadata": {},
     "output_type": "execute_result"
    }
   ],
   "source": [
    "l = [1,2,3]\n",
    "'__iter__' in dir(l)"
   ]
  },
  {
   "cell_type": "code",
   "execution_count": 46,
   "metadata": {},
   "outputs": [
    {
     "data": {
      "text/plain": [
       "False"
      ]
     },
     "execution_count": 46,
     "metadata": {},
     "output_type": "execute_result"
    }
   ],
   "source": [
    "'__next__' in dir(l)"
   ]
  },
  {
   "cell_type": "code",
   "execution_count": 89,
   "metadata": {},
   "outputs": [
    {
     "data": {
      "text/plain": [
       "list"
      ]
     },
     "execution_count": 89,
     "metadata": {},
     "output_type": "execute_result"
    }
   ],
   "source": [
    "type(l)"
   ]
  },
  {
   "cell_type": "code",
   "execution_count": 47,
   "metadata": {},
   "outputs": [],
   "source": [
    "li = iter(l) "
   ]
  },
  {
   "cell_type": "code",
   "execution_count": 48,
   "metadata": {},
   "outputs": [
    {
     "data": {
      "text/plain": [
       "<list_iterator at 0x20fba8ccc50>"
      ]
     },
     "execution_count": 48,
     "metadata": {},
     "output_type": "execute_result"
    }
   ],
   "source": [
    "li"
   ]
  },
  {
   "cell_type": "code",
   "execution_count": 50,
   "metadata": {},
   "outputs": [
    {
     "data": {
      "text/plain": [
       "True"
      ]
     },
     "execution_count": 50,
     "metadata": {},
     "output_type": "execute_result"
    }
   ],
   "source": [
    "'__iter__' in dir(li)"
   ]
  },
  {
   "cell_type": "code",
   "execution_count": 53,
   "metadata": {},
   "outputs": [
    {
     "data": {
      "text/plain": [
       "True"
      ]
     },
     "execution_count": 53,
     "metadata": {},
     "output_type": "execute_result"
    }
   ],
   "source": [
    "'__next__' in dir(li)"
   ]
  },
  {
   "cell_type": "code",
   "execution_count": 55,
   "metadata": {},
   "outputs": [
    {
     "data": {
      "text/plain": [
       "True"
      ]
     },
     "execution_count": 55,
     "metadata": {},
     "output_type": "execute_result"
    }
   ],
   "source": [
    "li == iter(li)"
   ]
  },
  {
   "cell_type": "code",
   "execution_count": null,
   "metadata": {},
   "outputs": [],
   "source": []
  },
  {
   "cell_type": "markdown",
   "metadata": {},
   "source": [
    "### Module: itertools\n",
    "\n",
    "https://docs.python.org/3.5/library/itertools.html\n",
    "\n",
    "p.29\n",
    "\n",
    "The module itertools is a collection of very powerful—and carefully designed—functions for performing iterator algebra(these allow you to combine iterators in sophisticated ways without having to concretely instantiate anything more than is currently required)\n",
    "\n",
    "a number of short, but easy to get subtly wrong, recipes for additional functions that each utilize two or three of the basic functions in combination\n",
    "\n",
    "The basic goal of using the building blocks inside itertools is to avoid performing computations before they are required, to avoid the memory requirements of a large instantiated collection, to avoid potentially slow I/O until it is stricly required, and so on. \n",
    "\n",
    "Figuring out exactly how to use functions in itertools correctly and optimally often requires careful thought, \n",
    "but once combined,\n",
    "remarkable power is obtained for dealing with large, or even infinite, iterators that could not be done with concrete collections.\n",
    "\n",
    "Note that for practical purposes, zip(), map(), filter(), and range()  could\n",
    "well live in itertools if they were not built-ins. ( all of those\n",
    "functions lazily generate sequential items  without creating a concrete sequence)\n",
    "\n",
    "Built-ins like all(), any(), sum(), min(), max(), and functools.reduce() also act on\n",
    "iterables, but all of them, in the general case, need to exhaust the iterator rather than remain lazy. "
   ]
  },
  {
   "cell_type": "code",
   "execution_count": 87,
   "metadata": {},
   "outputs": [],
   "source": [
    "# p.28  the stateful Fibonacci class to let us keep a running sum\n",
    "\n",
    "from collections.abc import Iterable\n",
    "class Fibonacci(Iterable):\n",
    "     def __init__(self):\n",
    "         self.a, self.b = 0, 1\n",
    "         self.total = 0\n",
    "     def __iter__(self):\n",
    "         return self\n",
    "     def __next__(self):\n",
    "         self.a, self.b = self.b, self.a + self.b\n",
    "         self.total += self.a\n",
    "         return self.a\n",
    "     def running_sum(self):\n",
    "         return self.total\n",
    "\n"
   ]
  },
  {
   "cell_type": "code",
   "execution_count": 76,
   "metadata": {},
   "outputs": [
    {
     "data": {
      "text/plain": [
       "0"
      ]
     },
     "execution_count": 76,
     "metadata": {},
     "output_type": "execute_result"
    }
   ],
   "source": [
    "fib = Fibonacci()\n",
    "fib.running_sum()"
   ]
  },
  {
   "cell_type": "code",
   "execution_count": 77,
   "metadata": {},
   "outputs": [
    {
     "name": "stdout",
     "output_type": "stream",
     "text": [
      "1 1 2 3 5 8 13 21 34 55 "
     ]
    }
   ],
   "source": [
    "for _, i in zip(range(10), fib):\n",
    "    print(i, end=\" \")\n"
   ]
  },
  {
   "cell_type": "code",
   "execution_count": 78,
   "metadata": {},
   "outputs": [
    {
     "data": {
      "text/plain": [
       "143"
      ]
     },
     "execution_count": 78,
     "metadata": {},
     "output_type": "execute_result"
    }
   ],
   "source": [
    "fib.running_sum()"
   ]
  },
  {
   "cell_type": "code",
   "execution_count": 79,
   "metadata": {},
   "outputs": [
    {
     "data": {
      "text/plain": [
       "89"
      ]
     },
     "execution_count": 79,
     "metadata": {},
     "output_type": "execute_result"
    }
   ],
   "source": [
    "next(fib)"
   ]
  },
  {
   "cell_type": "code",
   "execution_count": 86,
   "metadata": {},
   "outputs": [
    {
     "name": "stdout",
     "output_type": "stream",
     "text": [
      "1 1\n",
      "1 2\n",
      "2 4\n",
      "3 7\n",
      "5 12\n",
      "8 20\n",
      "13 33\n"
     ]
    }
   ],
   "source": [
    "# p.29   simply create a single lazy iterator to generate both the current number and this sum\n",
    "\n",
    "def fibonacci():\n",
    "    a, b = 1, 1\n",
    "    while True:\n",
    "        yield a\n",
    "        a, b = b, a+b\n",
    "\n",
    "from itertools import tee, accumulate\n",
    "s, t = tee(fibonacci())\n",
    "pairs = zip(t, accumulate(s))\n",
    "for _, (fib, total) in zip(range(7), pairs):\n",
    "    print(fib, total)\n"
   ]
  },
  {
   "cell_type": "markdown",
   "metadata": {},
   "source": [
    "### Chaining Iterables\n",
    "\n",
    "The itertools.chain() and itertools.chain.from_iterable() functions combine multiple iterables. \n",
    "Built-in zip() and itertools.zip_longest() also do this, of course, but in manners that allow incremental advancement through the iterables. \n",
    "\n",
    "from itertools import chain, count\n",
    "thrice_to_inf = chain(count(), count(), count())\n",
    "\n",
    " for merely large iterables—not for infinite ones—chaining can be very useful and\n",
    "parsimonious:\n",
    "\n",
    "def from_logs(fnames):\n",
    "    yield from (open(file) for file in fnames)\n",
    "lines = chain.from_iterable(from_logs(['huge.log', 'gigantic.log']))\n",
    "\n",
    "Notice that in the example given, we didn’t even need to pass in a concrete list of files—that sequence of filenames itself could be a lazy iterable per the API given.\n",
    "\n",
    "collections.ChainMap() : we sometimes want to chain together multiple mappings without needing to create a single larger concrete one. ChainMap() is handy, and does\n",
    "not alter the underlying mappings used to construct it.\n"
   ]
  },
  {
   "cell_type": "code",
   "execution_count": null,
   "metadata": {},
   "outputs": [],
   "source": []
  }
 ],
 "metadata": {
  "kernelspec": {
   "display_name": "Python 3",
   "language": "python",
   "name": "python3"
  },
  "language_info": {
   "codemirror_mode": {
    "name": "ipython",
    "version": 3
   },
   "file_extension": ".py",
   "mimetype": "text/x-python",
   "name": "python",
   "nbconvert_exporter": "python",
   "pygments_lexer": "ipython3",
   "version": "3.7.1"
  },
  "varInspector": {
   "cols": {
    "lenName": 16,
    "lenType": 16,
    "lenVar": 40
   },
   "kernels_config": {
    "python": {
     "delete_cmd_postfix": "",
     "delete_cmd_prefix": "del ",
     "library": "var_list.py",
     "varRefreshCmd": "print(var_dic_list())"
    },
    "r": {
     "delete_cmd_postfix": ") ",
     "delete_cmd_prefix": "rm(",
     "library": "var_list.r",
     "varRefreshCmd": "cat(var_dic_list()) "
    }
   },
   "types_to_exclude": [
    "module",
    "function",
    "builtin_function_or_method",
    "instance",
    "_Feature"
   ],
   "window_display": false
  }
 },
 "nbformat": 4,
 "nbformat_minor": 2
}
