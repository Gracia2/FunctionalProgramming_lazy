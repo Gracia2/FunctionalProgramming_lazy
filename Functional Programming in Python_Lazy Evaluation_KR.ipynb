{
 "cells": [
  {
   "cell_type": "markdown",
   "metadata": {},
   "source": [
    "## Functional Programming in Python_\n",
    "\n",
    "https://pepa.holla.cz/wp-content/uploads/2016/10/functional-programming-python.pdf\n",
    "\n",
    "https://docs.python.org/3.4/howto/functional.html\n",
    "\n",
    "기능적 프로그래밍이란 무엇입니까? : 변화하는 상태 및 변경 가능한 데이터를 피하는 표현식 평가에 기반한 프로그래밍 패러다임.\n",
    "\n",
    "기능적 프로그래밍은 문제를 일련의 기능으로 분해합니다. 이상적으로, 함수는 단지 입력을 가져 와서 출력을 생성하며, 주어진 입력에 대해 생성된 출력에 영향을주는 내부 상태를 갖지 않습니다.\n",
    "\n",
    "파이썬은 확실히 \"순수 함수형 프로그래밍 언어\"는 아닙니다. 그러나 Python은 기능적 프로그래밍을 원하는 경우 쉽게 할 수있게 해주고 다른 프로그래밍 스타일과 쉽게 섞을 수있는 다중 패러다임 언어입니다.\n",
    "\n",
    "• 함수는 일등급 (객체)입니다. 즉, \"데이터\"로 할 수있는 모든 일은 함수 자체로 수행 할 수 있습니다 (예 : 함수를 다른 함수로 전달).\n",
    "\n",
    "• 재귀는 기본 제어 구조로 사용됩니다.\n",
    "\n",
    "• list 처리에 중점을 둡니다. list는 대개 루프 대신 하위 목록에 대한 재귀와 함께 사용됩니다.\n",
    "\n",
    "• \"순수한\"함수 언어는 부작용을 피합니다. 함수 프로그래밍은 명령문을 무시하거나 완전히 무시하고 대신 식 (즉, 함수와 인수)의 평가와 함께 작동합니다.\n",
    "\n",
    "• 함수 프로그래밍은 계산 방법보다 계산 대상을 걱정합니다.\n",
    "\n",
    "• 많은 함수 프로그래밍은 \"higher order\"함수를 사용합니다. 즉, 함수에서 작동하는 함수에서 작동하는 함수\n",
    "\n",
    "https://marcobonzanini.com/2015/06/08/functional-programming-in-python/\n",
    "\n",
    "\n",
    "• 국가 대표 피하기??? Avoid state representation\n",
    "\n",
    "• 데이터가 변경 불가능합니다.\n",
    "\n",
    "Functional Programming을 뛰어 넘는 중요한 동기 중 하나는 상태 변화가없고 변경 가능한 데이터가없는 것과 같은 몇 가지 측면을 넘어 부작용, 즉 함수 입력에 실제로 의존하지 않는 상태의 변화를 제거 할 필요가 있다는 것입니다. 프로그램을 이해하고 예측하기가 더 어렵습니다.\n",
    "\n",
    "• Python 표준 라이브러리에는 더 많은 함수 프로그래밍 지원이 있습니다.\n",
    "\n",
    "1. map () reduce () 및 filter ()\n",
    "\n",
    "reduce ()와 filter () 함수는 자연스럽게 map () 함수와 함께 사용됩니다. map은 시퀀스에 대한 함수를 적용하여 출력을 시퀀스로 생성하지만, reduce는 시퀀스에서 단일 값으로 줄이기 위해 시퀀스의 항목에 누적 적으로 두 개의 인수의 함수를 적용합니다. filter ()를 사용하면 시퀀스의 각 항목에 함수를 적용하여 true를 반환하는 항목에 대한 새 시퀀스를 작성합니다.\n",
    "\n",
    "주목할 점 : 용어 시퀀스는 반복 가능한 것으로 지정되어야하며 map ()과 filter () 모두 반환 유형은 생성자입니다 (따라서 실제 목록을 시각화하기 위해 list ()를 사용합니다).\n",
    "\n",
    "2. 람다 함수 파이썬은 람다 함수의 정의, 즉 런타임에 이름에 반드시 바인딩되지 않는 작은 익명의 함수를 지원합니다. 익명 함수의 사용은 Functional Programming에서 매우 일반적이며, map / reduce / filter와 관련된 사용법을 쉽게 볼 수 있습니다.\n",
    "\n",
    "3. itertools 모듈\n",
    "\n",
    "4. 게으른 평가용 발전기???  Generators for lazy-evaluation\n",
    "\n",
    "파이썬의 생성기 함수와 생성자 표현식은 반복기의 전체 내용을 메모리에로드하지 않고도 반복자처럼 작동하는 (즉 반복 가능) 객체를 제공합니다. 이 개념은 지연 평가, 즉 순서에있는 항목이 필요할 때만 평가되는 통화 별 전략과 연결됩니다. 그렇지 않으면 메모리에로드되지 않습니다.\n",
    "\n",
    "• 기능 프로그래밍은 객체 지향 프로그래밍의 반대라고 생각할 수 있습니다.\n",
    "\n",
    "객체는이 상태를 수정할 수있는 메소드 호출 모음과 함께 내부 상태가 포함 된 작은 캡슐이며 프로그램은 올바른 상태 변경 집합을 구성합니다.\n",
    "\n",
    "기능 프로그래밍은 가능한 한 상태 변경을 피하기를 원하며 기능간에 데이터가 흐르게 작동합니다.\n",
    "\n",
    "파이썬에서는 애플리케이션의 객체를 나타내는 인스턴스 (예 : 전자 메일 메시지, 트랜잭션 등)를 가져 와서 반환하는 함수를 작성함으로써 두 가지 접근 방식을 결합 할 수 있습니다.\n",
    "\n",
    "• 기능적 디자인은 작동하기가 이상한 것처럼 보일 수 있습니다. 왜 물체와 부작용을 피해야합니까? 기능적 스타일에는 이론적으로나 실제적인 이점이 있습니다.\n",
    "\n",
    "공식적인 증명.\n",
    "\n",
    "모듈성.\n",
    "\n",
    "합성 가능성.\n",
    "\n",
    "디버깅 및 테스트가 쉽다.\n",
    "\n"
   ]
  },
  {
   "cell_type": "markdown",
   "metadata": {},
   "source": [
    "## Lazy Evaluation\n",
    "\n",
    "파이썬은 하스켈과 같은 언어의 의미에서 게으른 데이터 구조를 제공하지 않기 때문에이 기능은 함수 프로그래밍 그 자체에만 느슨하게 연결됩니다.\n",
    "\n",
    "그러나 반복자 프로토콜 (Python의 내장 또는 표준 라이브러리 반복 가능)을 사용하면 실제 지연 데이터 구조와 동일한 효과를 얻을 수 있습니다."
   ]
  },
  {
   "cell_type": "code",
   "execution_count": 5,
   "metadata": {},
   "outputs": [],
   "source": [
    "# p.18\n",
    "def get_primes():\n",
    "# \"Simple lazy Sieve of Eratosthenes\"\n",
    "    candidate = 2\n",
    "    found = []\n",
    "    while True:\n",
    "        if all(candidate % prime != 0 for prime in found):\n",
    "            yield candidate\n",
    "            found.append(candidate)\n",
    "        candidate += 1\n",
    "        \n",
    "primes = get_primes()"
   ]
  },
  {
   "cell_type": "code",
   "execution_count": 6,
   "metadata": {},
   "outputs": [
    {
     "data": {
      "text/plain": [
       "2"
      ]
     },
     "execution_count": 6,
     "metadata": {},
     "output_type": "execute_result"
    }
   ],
   "source": [
    "next(primes)"
   ]
  },
  {
   "cell_type": "code",
   "execution_count": 7,
   "metadata": {},
   "outputs": [
    {
     "data": {
      "text/plain": [
       "3"
      ]
     },
     "execution_count": 7,
     "metadata": {},
     "output_type": "execute_result"
    }
   ],
   "source": [
    "next(primes)"
   ]
  },
  {
   "cell_type": "code",
   "execution_count": 8,
   "metadata": {},
   "outputs": [
    {
     "data": {
      "text/plain": [
       "5"
      ]
     },
     "execution_count": 8,
     "metadata": {},
     "output_type": "execute_result"
    }
   ],
   "source": [
    "next(primes)"
   ]
  },
  {
   "cell_type": "code",
   "execution_count": 9,
   "metadata": {},
   "outputs": [
    {
     "data": {
      "text/plain": [
       "7"
      ]
     },
     "execution_count": 9,
     "metadata": {},
     "output_type": "execute_result"
    }
   ],
   "source": [
    "next(primes)"
   ]
  },
  {
   "cell_type": "code",
   "execution_count": 10,
   "metadata": {},
   "outputs": [
    {
     "name": "stdout",
     "output_type": "stream",
     "text": [
      "11 13 17 19 23 29 31 37 41 43 "
     ]
    }
   ],
   "source": [
    "for _, prime in zip(range(10), primes):\n",
    "    print(prime, end=\" \")"
   ]
  },
  {
   "cell_type": "code",
   "execution_count": 11,
   "metadata": {},
   "outputs": [
    {
     "name": "stdout",
     "output_type": "stream",
     "text": [
      "2 3 5 7 11 13 17 19 23 29 "
     ]
    }
   ],
   "source": [
    "# p.26   Define a list of ALL the prime numbers(like Haskell)\n",
    "\"\"\"one can replicate this in Python too, it just isn’t in the inherent syntax of the language and takes more manual construction.\"\"\" \n",
    "\n",
    "from collections.abc import Sequence\n",
    "class ExpandingSequence(Sequence):\n",
    "     def __init__(self, it):\n",
    "         self.it = it\n",
    "         self._cache = []\n",
    "     def __getitem__(self, index):\n",
    "         while len(self._cache) <= index:\n",
    "             self._cache.append(next(self.it))\n",
    "         return self._cache[index]\n",
    "     def __len__(self):\n",
    "         return len(self._cache)\n",
    "\n",
    "primes = ExpandingSequence(get_primes())  \n",
    "for _, p in zip(range(10), primes):\n",
    "    print(p, end=\" \")\n"
   ]
  },
  {
   "cell_type": "code",
   "execution_count": 12,
   "metadata": {},
   "outputs": [
    {
     "data": {
      "text/plain": [
       "31"
      ]
     },
     "execution_count": 12,
     "metadata": {},
     "output_type": "execute_result"
    }
   ],
   "source": [
    "primes[10]"
   ]
  },
  {
   "cell_type": "code",
   "execution_count": 13,
   "metadata": {},
   "outputs": [
    {
     "data": {
      "text/plain": [
       "13"
      ]
     },
     "execution_count": 13,
     "metadata": {},
     "output_type": "execute_result"
    }
   ],
   "source": [
    "primes[5]"
   ]
  },
  {
   "cell_type": "code",
   "execution_count": 14,
   "metadata": {},
   "outputs": [
    {
     "data": {
      "text/plain": [
       "11"
      ]
     },
     "execution_count": 14,
     "metadata": {},
     "output_type": "execute_result"
    }
   ],
   "source": [
    "len(primes)"
   ]
  },
  {
   "cell_type": "code",
   "execution_count": 15,
   "metadata": {},
   "outputs": [
    {
     "data": {
      "text/plain": [
       "547"
      ]
     },
     "execution_count": 15,
     "metadata": {},
     "output_type": "execute_result"
    }
   ],
   "source": [
    "primes[100]"
   ]
  },
  {
   "cell_type": "code",
   "execution_count": 16,
   "metadata": {},
   "outputs": [
    {
     "data": {
      "text/plain": [
       "101"
      ]
     },
     "execution_count": 16,
     "metadata": {},
     "output_type": "execute_result"
    }
   ],
   "source": [
    "len(primes)"
   ]
  },
  {
   "cell_type": "markdown",
   "metadata": {},
   "source": [
    "### Iterators\n",
    "\n",
    "https://docs.python.org/3.4/howto/functional.html\n",
    "\n",
    "Python 언어 기능은 함수 스타일 프로그램 작성에 중요한 토대가됩니다.\n",
    "\n",
    "반복자는 데이터 스트림을 나타내는 객체입니다. 이 객체는 한 번에 한 요소 씩 데이터를 반환합니다. 파이썬 반복자는 인수를 취하지 않고 항상 스트림의 다음 요소를 반환하는 __next __ () 메서드를 지원해야합니다. 스트림에 더 이상 요소가 없으면 __next __ ()가 StopIteration 예외를 발생시켜야합니다. 그러나 반복자는 유한 할 필요는 없습니다.\n"
   ]
  },
  {
   "cell_type": "markdown",
   "metadata": {},
   "source": [
    "### Generator expressions and list comprehensions\n",
    "\n",
    "https://docs.python.org/3.4/howto/functional.html\n",
    "\n",
    "List comprehension과 generator expression (약식 : \"listcomps\"와 \"genexps\")은 함수형 프로그래밍 언어 인 하스켈 (Haskell)에서 빌린 그런 작업을위한 간결한 표기법입니다.\n",
    "\n",
    "무한 스트림이나 매우 많은 양의 데이터를 반환하는 반복자로 작업하는 경우 목록 내장은 유용하지 않습니다. 이러한 상황에서는 발전기 표현식이 바람직합니다.\n",
    "\n",
    "생성자 표현식은 괄호 ( \"()\"로 묶고 목록 내장은 대괄호 ( \"[]\")로 묶습니다.\n",
    "\n",
    "생성자 표현식은 항상 괄호 안에 작성해야하지만 함수 호출을 알리는 괄호도 포함됩니다. 함수에 즉시 전달되는 반복자를 작성하려면 다음과 같이 작성할 수 있습니다.\n",
    "\n",
    "obj_total = sum(obj.count for obj in list_all_objects())\n",
    "\n",
    "파이썬의 문법에 모호함을 피하기 위해 표현식이 튜플을 생성하는 경우 괄호로 묶어야합니다. 아래의 첫 번째 목록 이해는 구문 오류이며 두 번째는 올바른 것입니다.\n",
    "\n",
    "#Syntax error\n",
    "[x, y for x in seq1 for y in seq2]\n",
    "#Correct\n",
    "[(x, y) for x in seq1 for y in seq2]"
   ]
  },
  {
   "cell_type": "code",
   "execution_count": 17,
   "metadata": {},
   "outputs": [],
   "source": [
    "line_list = ['  line 1\\n', 'line 2  \\n', 'line 3  \\n', 'line 4  \\n', 'line 5  \\n']\n",
    "\n",
    "# Generator expression -- returns iterator\n",
    "stripped_iter = (line.strip() for line in line_list)\n",
    "\n",
    "# List comprehension -- returns list\n",
    "stripped_list = [line.strip() for line in line_list]"
   ]
  },
  {
   "cell_type": "code",
   "execution_count": 18,
   "metadata": {},
   "outputs": [
    {
     "data": {
      "text/plain": [
       "<generator object <genexpr> at 0x000002086DA80318>"
      ]
     },
     "execution_count": 18,
     "metadata": {},
     "output_type": "execute_result"
    }
   ],
   "source": [
    "stripped_iter"
   ]
  },
  {
   "cell_type": "code",
   "execution_count": 19,
   "metadata": {},
   "outputs": [
    {
     "data": {
      "text/plain": [
       "'line 1'"
      ]
     },
     "execution_count": 19,
     "metadata": {},
     "output_type": "execute_result"
    }
   ],
   "source": [
    "next(stripped_iter)"
   ]
  },
  {
   "cell_type": "code",
   "execution_count": 20,
   "metadata": {},
   "outputs": [
    {
     "data": {
      "text/plain": [
       "'line 2'"
      ]
     },
     "execution_count": 20,
     "metadata": {},
     "output_type": "execute_result"
    }
   ],
   "source": [
    "next(stripped_iter)"
   ]
  },
  {
   "cell_type": "code",
   "execution_count": 21,
   "metadata": {},
   "outputs": [
    {
     "data": {
      "text/plain": [
       "'line 3'"
      ]
     },
     "execution_count": 21,
     "metadata": {},
     "output_type": "execute_result"
    }
   ],
   "source": [
    "next(stripped_iter)"
   ]
  },
  {
   "cell_type": "code",
   "execution_count": 22,
   "metadata": {},
   "outputs": [
    {
     "data": {
      "text/plain": [
       "'line 4'"
      ]
     },
     "execution_count": 22,
     "metadata": {},
     "output_type": "execute_result"
    }
   ],
   "source": [
    "next(stripped_iter)"
   ]
  },
  {
   "cell_type": "code",
   "execution_count": 23,
   "metadata": {},
   "outputs": [
    {
     "data": {
      "text/plain": [
       "'line 5'"
      ]
     },
     "execution_count": 23,
     "metadata": {},
     "output_type": "execute_result"
    }
   ],
   "source": [
    "next(stripped_iter)"
   ]
  },
  {
   "cell_type": "code",
   "execution_count": 24,
   "metadata": {},
   "outputs": [
    {
     "ename": "StopIteration",
     "evalue": "",
     "output_type": "error",
     "traceback": [
      "\u001b[1;31m---------------------------------------------------------------------------\u001b[0m",
      "\u001b[1;31mStopIteration\u001b[0m                             Traceback (most recent call last)",
      "\u001b[1;32m<ipython-input-24-0aa9e486d076>\u001b[0m in \u001b[0;36m<module>\u001b[1;34m\u001b[0m\n\u001b[1;32m----> 1\u001b[1;33m \u001b[0mnext\u001b[0m\u001b[1;33m(\u001b[0m\u001b[0mstripped_iter\u001b[0m\u001b[1;33m)\u001b[0m\u001b[1;33m\u001b[0m\u001b[1;33m\u001b[0m\u001b[0m\n\u001b[0m",
      "\u001b[1;31mStopIteration\u001b[0m: "
     ]
    }
   ],
   "source": [
    "next(stripped_iter)"
   ]
  },
  {
   "cell_type": "code",
   "execution_count": 25,
   "metadata": {},
   "outputs": [
    {
     "data": {
      "text/plain": [
       "['line 1', 'line 2', 'line 3', 'line 4', 'line 5']"
      ]
     },
     "execution_count": 25,
     "metadata": {},
     "output_type": "execute_result"
    }
   ],
   "source": [
    "stripped_list"
   ]
  },
  {
   "cell_type": "code",
   "execution_count": 26,
   "metadata": {},
   "outputs": [],
   "source": [
    "stripped_list = [line.strip() for line in line_list\n",
    "                 if line != \"\"]"
   ]
  },
  {
   "cell_type": "code",
   "execution_count": 27,
   "metadata": {},
   "outputs": [
    {
     "data": {
      "text/plain": [
       "['line 1', 'line 2', 'line 3', 'line 4', 'line 5']"
      ]
     },
     "execution_count": 27,
     "metadata": {},
     "output_type": "execute_result"
    }
   ],
   "source": [
    "stripped_list"
   ]
  },
  {
   "cell_type": "markdown",
   "metadata": {},
   "source": [
    "### Generators\n",
    "\n",
    "https://docs.python.org/3.4/howto/functional.html\n",
    "\n",
    "p.15\n",
    "파이썬에서 특별한 종류의 함수는 yield를 포함하는 함수입니다\n",
    "이것은 진술을 발전기???로 바꾼다. 무엇???에서 돌아온\n",
    "그러한 함수를 호출하는 것은 일반적인 값이 아니라 반복자이다.\n",
    "next () 함수를 호출 할 때 일련의 값을 생성합니다.\n",
    "그것 위에 또는 루프. : \"게으른 평가\""
   ]
  },
  {
   "cell_type": "markdown",
   "metadata": {},
   "source": [
    "### iterator protocol\n",
    "\n",
    "https://www.macs.hw.ac.uk/~hwloidl/Courses/F21SC/slidesPython17_FP.pdf\n",
    "\n",
    "많은 기능으로 인해 많은 공통 루프 패턴이 필요하지 않습니다.\n",
    "\n",
    "함수 프로그래밍 도구는 많은 루프를 간단한 표현으로 줄입니다.\n",
    "\n",
    ": 일련의 값을 반복하는 일반적인 방법은 'for'를 사용하는 것입니다.\n",
    "\n",
    "그러나 좋은 반복에 대한 비밀의 일부는 명시적으로 반복하지 않습니다.\n",
    "\n",
    "이해력은 명시적인 루핑없이 목록, 집합 또는 사전을 만듭니다.\n",
    "\n",
    "반복자와 생성자는 일련의 값을 처리하는 게으른 접근 방식을 지원합니다.\n",
    "\n",
    "\n",
    "27p.\n",
    "\n",
    "반복자를 만드는 가장 쉬운 방법은 말하자면 파이썬에서 지연 시퀀스는 생성 함수를 정의하는 것입니다. yield 문을 사용하기만 하면 됩니다.\n",
    "값이 생성되는 장소 (일반적으로 루프)를 정의하는 함수의 본문 내에서.\n",
    "\n",
    "생성자 함수는 반복자를 반환하는 함수를 정의하기 위한 구문 설탕ㅎㅎㅎ입니다.\n",
    "\n",
    "많은 객체는 일반적으로 iter () 내장 함수를 통해 호출 될 때 반복기를 반환하거나 객체를 루핑하여 반복자를 반환하는 .__ iter __ ()라는 메서드를 가지고 있습니다.\n",
    "\n",
    "iterator는 iter (something) 호출에 의해 반환 된 객체이며, 객체 자체를 단순히 반환하는 .__ iter __ () 메서드와 .__ next __ ()라는 메서드가 있습니다.\n",
    "\n",
    "iterable 자체에 여전히 .__ iter __ () 메소드가 있는 이유는 iter ()를 \"멱등 원 (idempotent)\"으로 만드는 것입니다. 즉,이 ID???는 항상 보유해야합니다.\n",
    "\n",
    "iter_seq = iter (sequence)\n",
    "\n",
    "iter (iter_seq) == iter_seq\n",
    "\n",
    "p.28 함수형 프로그래밍 스타일 또는 심지어 일반적으로 가독성을 위해 생성기 함수로 사용자 정의 반복기를 작성하는 것이 가장 자연 스럽습니다. 그러나 프로토콜을 따르는 사용자 정의 클래스를 만들 수도 있습니다. 그러나 그러한 행동의 대부분은 반드시 statefulness와 부작용에 의존해야합니다. (상태 기반 프로그래밍은 객체 지향 프로그래머를 위한 것이므로 함수 프로그래밍 스타일에서는 일반적으로 이와 같은 클래스를 피할 것입니다.)"
   ]
  },
  {
   "cell_type": "code",
   "execution_count": 28,
   "metadata": {},
   "outputs": [
    {
     "data": {
      "text/plain": [
       "True"
      ]
     },
     "execution_count": 28,
     "metadata": {},
     "output_type": "execute_result"
    }
   ],
   "source": [
    "l = [1,2,3]\n",
    "'__iter__' in dir(l)"
   ]
  },
  {
   "cell_type": "code",
   "execution_count": 29,
   "metadata": {},
   "outputs": [
    {
     "data": {
      "text/plain": [
       "False"
      ]
     },
     "execution_count": 29,
     "metadata": {},
     "output_type": "execute_result"
    }
   ],
   "source": [
    "'__next__' in dir(l)"
   ]
  },
  {
   "cell_type": "code",
   "execution_count": 34,
   "metadata": {},
   "outputs": [
    {
     "data": {
      "text/plain": [
       "list"
      ]
     },
     "execution_count": 34,
     "metadata": {},
     "output_type": "execute_result"
    }
   ],
   "source": [
    "type(l)"
   ]
  },
  {
   "cell_type": "code",
   "execution_count": 30,
   "metadata": {},
   "outputs": [],
   "source": [
    "li = iter(l) "
   ]
  },
  {
   "cell_type": "code",
   "execution_count": 31,
   "metadata": {},
   "outputs": [
    {
     "data": {
      "text/plain": [
       "<list_iterator at 0x2086daa4860>"
      ]
     },
     "execution_count": 31,
     "metadata": {},
     "output_type": "execute_result"
    }
   ],
   "source": [
    "li"
   ]
  },
  {
   "cell_type": "code",
   "execution_count": 32,
   "metadata": {},
   "outputs": [
    {
     "data": {
      "text/plain": [
       "True"
      ]
     },
     "execution_count": 32,
     "metadata": {},
     "output_type": "execute_result"
    }
   ],
   "source": [
    "'__iter__' in dir(li)"
   ]
  },
  {
   "cell_type": "code",
   "execution_count": 33,
   "metadata": {},
   "outputs": [
    {
     "data": {
      "text/plain": [
       "True"
      ]
     },
     "execution_count": 33,
     "metadata": {},
     "output_type": "execute_result"
    }
   ],
   "source": [
    "'__next__' in dir(li)"
   ]
  },
  {
   "cell_type": "code",
   "execution_count": 35,
   "metadata": {},
   "outputs": [
    {
     "data": {
      "text/plain": [
       "True"
      ]
     },
     "execution_count": 35,
     "metadata": {},
     "output_type": "execute_result"
    }
   ],
   "source": [
    "li == iter(li)"
   ]
  },
  {
   "cell_type": "markdown",
   "metadata": {},
   "source": [
    "### Module: itertools\n",
    "\n",
    "https://docs.python.org/3.5/library/itertools.html\n",
    "\n",
    "p.29\n",
    "\n",
    "itertools 모듈은 반복자 대수 (iterator algebra)를 수행하기위한 매우 강력하고 신중하게 설계된 함수들의 집합입니다 (이것들은 현재 요구되는 것 이상으로 구체화 할 필요없이 정교한 방법으로 반복자를 결합 할 수있게합니다)\n",
    "\n",
    "간단하지만 많은 실수를 범하기 쉽기 때문에 기본 기능 중 두 개 또는 세 개를 조합하여 사용하는 추가 기능을위한 레시피\n",
    "\n",
    "itertools 내부에서 빌딩 블록을 사용하는 기본 목표는 필요할 때까지 계산을 수행하지 않고, 대규모 인스턴스화 된 콜렉션의 메모리 요구 사항을 피하고, 엄격하게 요구 될 때까지 I / O가 느려지는 것을 방지하는 등입니다.\n",
    "\n",
    "itertools에서 정확하게 함수를 사용하는 방법을 정확하게 파악하는 것은 종종 정확하고 신중하게 생각해야합니다.\n",
    "그러나 일단 결합되면,\n",
    "콘크리트 콜렉션으로는 할 수없는 크거나 심지어 무한한 반복자를 다룰 때 눈에 띄는 힘이 얻어집니다.\n",
    "\n",
    "실제적인 목적을 위해 zip (), map (), filter () 및 range ()는 다음을 수행 할 수 있습니다.\n",
    "그들이 내장되어 있지 않다면 itertools에 잘 살 수 있습니다. ( 그 모든\n",
    "함수는 구체적인 순서를 만들지 않고 순차적 인 항목을 지연 생성합니다)\n",
    "\n",
    "all (), any (), sum (), min (), max () 및 functools.reduce () 같은 내장 함수는\n",
    "iterables하지만, 모두는 일반적으로 게으르기보다는 반복자를 다 써야합니다.\n"
   ]
  },
  {
   "cell_type": "code",
   "execution_count": 36,
   "metadata": {},
   "outputs": [],
   "source": [
    "# p.28  the stateful Fibonacci class to let us keep a running sum\n",
    "\n",
    "from collections.abc import Iterable\n",
    "class Fibonacci(Iterable):\n",
    "     def __init__(self):\n",
    "         self.a, self.b = 0, 1\n",
    "         self.total = 0\n",
    "     def __iter__(self):\n",
    "         return self\n",
    "     def __next__(self):\n",
    "         self.a, self.b = self.b, self.a + self.b\n",
    "         self.total += self.a\n",
    "         return self.a\n",
    "     def running_sum(self):\n",
    "         return self.total\n"
   ]
  },
  {
   "cell_type": "code",
   "execution_count": 37,
   "metadata": {},
   "outputs": [
    {
     "data": {
      "text/plain": [
       "0"
      ]
     },
     "execution_count": 37,
     "metadata": {},
     "output_type": "execute_result"
    }
   ],
   "source": [
    "fib = Fibonacci()\n",
    "fib.running_sum()"
   ]
  },
  {
   "cell_type": "code",
   "execution_count": 38,
   "metadata": {},
   "outputs": [
    {
     "name": "stdout",
     "output_type": "stream",
     "text": [
      "1 1 2 3 5 8 13 21 34 55 "
     ]
    }
   ],
   "source": [
    "for _, i in zip(range(10), fib):\n",
    "    print(i, end=\" \")"
   ]
  },
  {
   "cell_type": "code",
   "execution_count": 39,
   "metadata": {},
   "outputs": [
    {
     "data": {
      "text/plain": [
       "143"
      ]
     },
     "execution_count": 39,
     "metadata": {},
     "output_type": "execute_result"
    }
   ],
   "source": [
    "fib.running_sum()"
   ]
  },
  {
   "cell_type": "code",
   "execution_count": 40,
   "metadata": {},
   "outputs": [
    {
     "data": {
      "text/plain": [
       "89"
      ]
     },
     "execution_count": 40,
     "metadata": {},
     "output_type": "execute_result"
    }
   ],
   "source": [
    "next(fib)"
   ]
  },
  {
   "cell_type": "code",
   "execution_count": 41,
   "metadata": {},
   "outputs": [
    {
     "name": "stdout",
     "output_type": "stream",
     "text": [
      "1 1\n",
      "1 2\n",
      "2 4\n",
      "3 7\n",
      "5 12\n",
      "8 20\n",
      "13 33\n"
     ]
    }
   ],
   "source": [
    "# p.29   simply create a single lazy iterator to generate both the current number and this sum\n",
    "\n",
    "def fibonacci():\n",
    "    a, b = 1, 1\n",
    "    while True:\n",
    "        yield a\n",
    "        a, b = b, a+b\n",
    "\n",
    "from itertools import tee, accumulate\n",
    "s, t = tee(fibonacci())\n",
    "pairs = zip(t, accumulate(s))\n",
    "for _, (fib, total) in zip(range(7), pairs):\n",
    "    print(fib, total)\n"
   ]
  },
  {
   "cell_type": "markdown",
   "metadata": {},
   "source": [
    "### Chaining Iterables\n",
    "\n",
    "itertools.chain () 및 itertools.chain.from_iterable () 함수는 여러 iterables를 결합합니다.\n",
    "내장 zip () 및 itertools.zip_longest ()도 물론 이것을 수행하지만 iterables를 통해 증분 승격을 허용하는 방식입니다.\n",
    "\n",
    "from itertools import chain, count\n",
    "thrice_to_inf = chain(count(), count(), count())\n",
    "\n",
    "무한한 iterables를위한 것이 아닌 - chaining은 매우 유용 할 수 있습니다.\n",
    "\n",
    "def from_logs(fnames):\n",
    "    yield from (open(file) for file in fnames)\n",
    "lines = chain.from_iterable(from_logs(['huge.log', 'gigantic.log']))\n",
    "\n",
    "주어진 예제에서 구체적인 파일 목록을 전달할 필요조차 없었습니다. 파일 이름 순서는 지정된 API마다 지연 반복 가능할 수 있습니다.\n",
    "\n",
    "ChainsMap () : 하나의 더 큰 구체적인 하나를 만들 필요없이 여러 매핑을 함께 연결하려는 경우가 있습니다. ChainMap ()은 편리하며, 그것을 구성하는 데 사용 된 기본 매핑을 변경하지 않습니다."
   ]
  },
  {
   "cell_type": "code",
   "execution_count": null,
   "metadata": {},
   "outputs": [],
   "source": []
  }
 ],
 "metadata": {
  "kernelspec": {
   "display_name": "Python 3",
   "language": "python",
   "name": "python3"
  },
  "language_info": {
   "codemirror_mode": {
    "name": "ipython",
    "version": 3
   },
   "file_extension": ".py",
   "mimetype": "text/x-python",
   "name": "python",
   "nbconvert_exporter": "python",
   "pygments_lexer": "ipython3",
   "version": "3.7.1"
  },
  "varInspector": {
   "cols": {
    "lenName": 16,
    "lenType": 16,
    "lenVar": 40
   },
   "kernels_config": {
    "python": {
     "delete_cmd_postfix": "",
     "delete_cmd_prefix": "del ",
     "library": "var_list.py",
     "varRefreshCmd": "print(var_dic_list())"
    },
    "r": {
     "delete_cmd_postfix": ") ",
     "delete_cmd_prefix": "rm(",
     "library": "var_list.r",
     "varRefreshCmd": "cat(var_dic_list()) "
    }
   },
   "types_to_exclude": [
    "module",
    "function",
    "builtin_function_or_method",
    "instance",
    "_Feature"
   ],
   "window_display": false
  }
 },
 "nbformat": 4,
 "nbformat_minor": 2
}
